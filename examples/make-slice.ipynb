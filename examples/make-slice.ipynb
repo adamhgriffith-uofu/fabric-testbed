{
 "cells": [
  {
   "cell_type": "markdown",
   "id": "3aff9273",
   "metadata": {},
   "source": [
    "# Fabric Slice Set Up\n",
    "This notebook creates a slice comprised of multipel nodes connected with a bridge network and attached storage. It also generates a inventory file ready to be used by [Kubespray](https://github.com/kubernetes-sigs/kubespray) for Kubernetes installation."
   ]
  },
  {
   "cell_type": "code",
   "execution_count": null,
   "id": "1ceddeb1",
   "metadata": {},
   "outputs": [],
   "source": [
    "import os\n",
    "from fabrictestbed.slice_manager import SliceManager, Status, SliceState\n",
    "import json"
   ]
  },
  {
   "cell_type": "markdown",
   "id": "5067cfd7",
   "metadata": {},
   "source": [
    "## Variables"
   ]
  },
  {
   "cell_type": "markdown",
   "id": "32902b8c",
   "metadata": {},
   "source": [
    "### SSH"
   ]
  },
  {
   "cell_type": "code",
   "execution_count": null,
   "id": "d93bc85a",
   "metadata": {},
   "outputs": [],
   "source": [
    "bastion_public_addr = os.environ['FABRIC_BASTION_HOST']\n",
    "bastion_private_ipv4_addr = os.environ['FABRIC_BASTION_HOST_PRIV_IPV4']\n",
    "bastion_private_ipv6_addr = os.environ['FABRIC_BASTION_HOST_PRIV_IPV6']\n",
    "\n",
    "bastion_username = os.environ['FABRIC_API_USER']\n",
    "\n",
    "bastion_key_filename = os.environ['HOME'] + \"/.ssh/id_rsa_fabric\"\n",
    "\n",
    "ssh_key_file_priv=os.environ['HOME']+\"/.ssh/id_rsa_fabric_slice\"\n",
    "ssh_key_file_pub=os.environ['HOME']+\"/.ssh/id_rsa_fabric_slice.pub\"\n",
    "\n",
    "ssh_key_pub = None\n",
    "with open (ssh_key_file_pub, \"r\") as myfile:\n",
    "    ssh_key_pub=myfile.read()\n",
    "    ssh_key_pub=ssh_key_pub.strip()"
   ]
  },
  {
   "cell_type": "markdown",
   "id": "5d457f80",
   "metadata": {},
   "source": [
    "### API"
   ]
  },
  {
   "cell_type": "code",
   "execution_count": null,
   "id": "d13aa304",
   "metadata": {},
   "outputs": [],
   "source": [
    "credmgr_host = os.environ['FABRIC_CREDMGR_HOST']\n",
    "print(f\"FABRIC Credential Manager   : {credmgr_host}\")\n",
    "\n",
    "orchestrator_host = os.environ['FABRIC_ORCHESTRATOR_HOST']\n",
    "print(f\"FABRIC Orchestrator         : {orchestrator_host}\")"
   ]
  },
  {
   "cell_type": "markdown",
   "id": "58db9109",
   "metadata": {},
   "source": [
    "## Create Slice Manager Object\n",
    "Users can request tokens with different Project and Scopes by altering `project_name` and `scope` parameters in the refresh call below."
   ]
  },
  {
   "cell_type": "code",
   "execution_count": null,
   "id": "9f390a29",
   "metadata": {},
   "outputs": [],
   "source": [
    "slice_manager = SliceManager(oc_host=orchestrator_host, \n",
    "                             cm_host=credmgr_host ,\n",
    "                             project_name='all', \n",
    "                             scope='all')\n",
    "\n",
    "# Initialize the slice manager\n",
    "slice_manager.initialize()"
   ]
  },
  {
   "cell_type": "markdown",
   "id": "59558eaa",
   "metadata": {},
   "source": [
    "### Orchestrator API example to query for available resources"
   ]
  },
  {
   "cell_type": "code",
   "execution_count": null,
   "id": "58ec2182",
   "metadata": {},
   "outputs": [],
   "source": [
    "status, advertised_topology = slice_manager.resources()\n",
    "\n",
    "print(f\"Status: {status}\")\n",
    "if status == Status.OK:\n",
    "    print(f\"Toplogy: {advertised_topology}\")\n",
    "else:\n",
    "    print(f\"Error: {advertised_topology}\")\n",
    "    \n",
    "if status == Status.OK:\n",
    "    advertised_topology.draw()"
   ]
  },
  {
   "cell_type": "markdown",
   "id": "82d1c75a",
   "metadata": {},
   "source": [
    "### Create Slice\n",
    "In Release 1.0, user is expected to assign the IP addresses manually. Please use the example comands indicated below:"
   ]
  },
  {
   "cell_type": "markdown",
   "id": "437e7a2d",
   "metadata": {},
   "source": [
    "#### Configure Slice Parameters"
   ]
  },
  {
   "cell_type": "code",
   "execution_count": null,
   "id": "1701b634",
   "metadata": {},
   "outputs": [],
   "source": [
    "from fabrictestbed.slice_editor import ComponentModelType\n",
    "\n",
    "slice_name = 'KubernetesSlice1'\n",
    "site = 'MAX'\n",
    "node1_name = 'Node1'\n",
    "node2_name = 'Node2'\n",
    "network_service_name='bridge1'\n",
    "nic1_name = 'node1-nic1'\n",
    "nic2_name = 'node2-nic1'\n",
    "username = 'centos'\n",
    "image = 'default_centos_8'\n",
    "image_type = 'qcow2'\n",
    "cores = 4\n",
    "ram = 20\n",
    "disk = 100\n",
    "\n",
    "nvme_name='nvme1'\n",
    "nvme_model_type = ComponentModelType.NVME_P4510"
   ]
  },
  {
   "cell_type": "code",
   "execution_count": null,
   "id": "ce12b9ac",
   "metadata": {},
   "outputs": [],
   "source": [
    "from fabrictestbed.slice_editor import ExperimentTopology, Capacities, ComponentType, ComponentModelType, ServiceType\n",
    "# Create topology\n",
    "t = ExperimentTopology()\n",
    "\n",
    "# Add node\n",
    "n1 = t.add_node(name=node1_name, site=site)\n",
    "\n",
    "# Set capacities\n",
    "cap = Capacities()\n",
    "cap.set_fields(core=cores, ram=ram, disk=disk)\n",
    "\n",
    "# Set Properties\n",
    "n1.set_properties(capacities=cap, image_type=image_type, image_ref=image)\n",
    "\n",
    "# Add node\n",
    "n2 = t.add_node(name=node2_name, site=site)\n",
    "\n",
    "# Set properties\n",
    "n2.set_properties(capacities=cap, image_type=image_type, image_ref=image)\n",
    "\n",
    "# Shared Cards\n",
    "n1.add_component(model_type=ComponentModelType.SharedNIC_ConnectX_6, name=nic1_name)\n",
    "n2.add_component(model_type=ComponentModelType.SharedNIC_ConnectX_6, name=nic2_name)\n",
    "\n",
    "# Add the PCI NVMe device\n",
    "n2.add_component(model_type=nvme_model_type, name=nvme_name)\n",
    "\n",
    "# L2Bridge Service\n",
    "t.add_network_service(name=network_service_name, nstype=ServiceType.L2Bridge, interfaces=t.interface_list)\n",
    "\n",
    "# Generate Slice Graph\n",
    "slice_graph = t.serialize()\n",
    "\n",
    "# Request slice from Orchestrator\n",
    "return_status, slice_reservations = slice_manager.create(slice_name=slice_name, \n",
    "                                            slice_graph=slice_graph, \n",
    "                                            ssh_key=ssh_key_pub)\n",
    "\n",
    "if return_status == Status.OK:\n",
    "    slice_id = slice_reservations[0].get_slice_id()\n",
    "    print(\"Submitted slice creation request. Slice ID: {}\".format(slice_id))\n",
    "else:\n",
    "    print(f\"Failure: {slice_reservations}\")"
   ]
  },
  {
   "cell_type": "markdown",
   "id": "eb59d417",
   "metadata": {},
   "source": [
    "#### Get the Slice"
   ]
  },
  {
   "cell_type": "code",
   "execution_count": null,
   "id": "ce73e999",
   "metadata": {},
   "outputs": [],
   "source": [
    "import time\n",
    "def wait_for_slice(slice,timeout=180,interval=10,progress=False):\n",
    "    timeout_start = time.time()\n",
    "\n",
    "    if progress: print(\"Waiting for slice .\", end = '')\n",
    "    while time.time() < timeout_start + timeout:\n",
    "        return_status, slices = slice_manager.slices(excludes=[SliceState.Dead,SliceState.Closing])\n",
    "\n",
    "        if return_status == Status.OK:\n",
    "            slice = list(filter(lambda x: x.slice_name == slice_name, slices))[0]\n",
    "            if slice.slice_state == \"StableOK\":\n",
    "                if progress: print(\" Slice state: {}\".format(slice.slice_state))\n",
    "                return slice\n",
    "            if slice.slice_state == \"Closing\" or slice.slice_state == \"Dead\":\n",
    "                if progress: print(\" Slice state: {}\".format(slice.slice_state))\n",
    "                return slice    \n",
    "        else:\n",
    "            print(f\"Failure: {slices}\")\n",
    "        \n",
    "        if progress: print(\".\", end = '')\n",
    "        time.sleep(interval)\n",
    "    \n",
    "    if time.time() >= timeout_start + timeout:\n",
    "        if progress: print(\" Timeout exceeded ({} sec). Slice: {} ({})\".format(timeout,slice.slice_name,slice.slice_state))\n",
    "        return slice    \n",
    "\n",
    "\n",
    "return_status, slices = slice_manager.slices(excludes=[SliceState.Dead,SliceState.Closing])\n",
    "\n",
    "if return_status == Status.OK:\n",
    "    slice = list(filter(lambda x: x.slice_name == slice_name, slices))[0]\n",
    "    slice = wait_for_slice(slice, progress=True)\n",
    "\n",
    "print()\n",
    "print(\"Slice Name : {}\".format(slice.slice_name))\n",
    "print(\"ID         : {}\".format(slice.slice_id))\n",
    "print(\"State      : {}\".format(slice.slice_state))\n",
    "print(\"Lease End  : {}\".format(slice.lease_end))"
   ]
  },
  {
   "cell_type": "markdown",
   "id": "355ba15f",
   "metadata": {},
   "source": [
    "#### Get the Nodes\n",
    "Retrieve the node information and save the management IP address."
   ]
  },
  {
   "cell_type": "markdown",
   "id": "dcd57271",
   "metadata": {},
   "source": [
    "##### Get the Topology"
   ]
  },
  {
   "cell_type": "code",
   "execution_count": null,
   "id": "63b4f184",
   "metadata": {},
   "outputs": [],
   "source": [
    "nodes=[]\n",
    "return_status, experiment_topology = slice_manager.get_slice_topology(slice_object=slice)"
   ]
  },
  {
   "cell_type": "markdown",
   "id": "dd18971b",
   "metadata": {},
   "source": [
    "##### Configure Node1\n",
    "`ssh` into `node1` and configure `eth1` as:\n",
    "```shell\n",
    "ip addr add 192.168.10.51/24 dev eth1\n",
    "```"
   ]
  },
  {
   "cell_type": "code",
   "execution_count": null,
   "id": "f0d6f975",
   "metadata": {},
   "outputs": [],
   "source": [
    "node1 = experiment_topology.nodes[node1_name]\n",
    "\n",
    "management_ip_node1 = str(node1.get_property(pname='management_ip'))\n",
    "print(\"Node Name        : {}\".format(node1.name))\n",
    "print(\"Management IP    : {}\".format(management_ip_node1))\n",
    "print()\n",
    "nodes.append({\"name\":\"node1\",\"pubip\": management_ip_node1, \"privip\": \"192.168.10.51\"})"
   ]
  },
  {
   "cell_type": "code",
   "execution_count": null,
   "id": "95fcb1ac",
   "metadata": {},
   "outputs": [],
   "source": [
    "from ipaddress import ip_address, IPv4Address\n",
    "def validIPAddress(IP: str) -> str:\n",
    "    try:\n",
    "        return \"IPv4\" if type(ip_address(IP)) is IPv4Address else \"IPv6\"\n",
    "    except ValueError:\n",
    "        return \"Invalid\"\n",
    "\n",
    "import paramiko\n",
    "management_ip = management_ip_node1\n",
    "\n",
    "key = paramiko.RSAKey.from_private_key_file(ssh_key_file_priv)\n",
    "\n",
    "bastion=paramiko.SSHClient()\n",
    "bastion.set_missing_host_key_policy(paramiko.AutoAddPolicy())\n",
    "bastion.connect(bastion_public_addr, username=bastion_username, key_filename=bastion_key_filename,passphrase=\"790325\")\n",
    "\n",
    "\n",
    "bastion_transport = bastion.get_transport()\n",
    "if validIPAddress(management_ip) == 'IPv4':\n",
    "    src_addr = (bastion_private_ipv4_addr, 22)\n",
    "elif validIPAddress(management_ip) == 'IPv6':\n",
    "    src_addr = (bastion_private_ipv6_addr, 22)\n",
    "else:\n",
    "    print('Management IP Invalid: {}'.format(management_ip))\n",
    "\n",
    "dest_addr = (management_ip, 22)\n",
    "bastion_channel = bastion_transport.open_channel(\"direct-tcpip\", dest_addr, src_addr)\n",
    "\n",
    "\n",
    "client = paramiko.SSHClient()\n",
    "client.load_system_host_keys()\n",
    "client.set_missing_host_key_policy(paramiko.MissingHostKeyPolicy())\n",
    "client.set_missing_host_key_policy(paramiko.AutoAddPolicy())\n",
    "\n",
    "client.connect(management_ip,username=username,pkey = key, sock=bastion_channel)\n",
    "#stdin, stdout, stderr = client.exec_command('sudo systemctl disable NetworkManager')\n",
    "#stdin, stdout, stderr = client.exec_command('sudo systemctl stop NetworkManager')\n",
    "stdin, stdout, stderr = client.exec_command('sudo bash -c \"echo [keyfile] > /etc/NetworkManager/conf.d/kubefabric.conf\"')\n",
    "stdin, stdout, stderr = client.exec_command('sudo bash -c \"echo \\'unmanaged-devices=interface-name:cali*;interface-name:tunl*;interface-name:vxlan.calico;interface-name:wireguard.cali;interface-name:eth1\\' >> /etc/NetworkManager/conf.d/kubefabric.conf\"')\n",
    "stdin, stdout, stderr = client.exec_command('sudo systemctl restart NetworkManager')\n",
    "stdin, stdout, stderr = client.exec_command('sudo ip addr add 192.168.10.51/24 dev eth1')\n",
    "print (str(stdout.read(),'utf-8').replace('\\\\n','\\n'))\n",
    "\n",
    "stdin, stdout, stderr = client.exec_command('ifconfig eth1')\n",
    "print (str(stdout.read(),'utf-8').replace('\\\\n','\\n'))\n",
    "\n",
    "client.close()"
   ]
  },
  {
   "cell_type": "markdown",
   "id": "bb5011ed",
   "metadata": {},
   "source": [
    "##### Configure Node2\n",
    "`ssh` into `node2` and configure `eth1` as:\n",
    "```shell\n",
    "ip addr add 192.168.10.52/24 dev eth1\n",
    "```"
   ]
  },
  {
   "cell_type": "code",
   "execution_count": null,
   "id": "c101c159",
   "metadata": {},
   "outputs": [],
   "source": [
    "node2 = experiment_topology.nodes[node2_name]\n",
    "\n",
    "management_ip_node2 = str(node2.get_property(pname='management_ip'))\n",
    "print(\"Node Name        : {}\".format(node2.name))\n",
    "print(\"Management IP    : {}\".format(management_ip_node2))\n",
    "print()\n",
    "nodes.append({\"name\":\"node2\",\"pubip\": management_ip_node2, \"privip\": \"192.168.10.52\"})"
   ]
  },
  {
   "cell_type": "code",
   "execution_count": null,
   "id": "2a85f8c4",
   "metadata": {},
   "outputs": [],
   "source": [
    "from ipaddress import ip_address, IPv4Address\n",
    "def validIPAddress(IP: str) -> str:\n",
    "    try:\n",
    "        return \"IPv4\" if type(ip_address(IP)) is IPv4Address else \"IPv6\"\n",
    "    except ValueError:\n",
    "        return \"Invalid\"\n",
    "\n",
    "import paramiko\n",
    "management_ip = management_ip_node2\n",
    "\n",
    "key = paramiko.RSAKey.from_private_key_file(ssh_key_file_priv)\n",
    "\n",
    "bastion=paramiko.SSHClient()\n",
    "bastion.set_missing_host_key_policy(paramiko.AutoAddPolicy())\n",
    "bastion.connect(bastion_public_addr, username=bastion_username, key_filename=bastion_key_filename,passphrase=\"790325\")\n",
    "\n",
    "\n",
    "bastion_transport = bastion.get_transport()\n",
    "if validIPAddress(management_ip) == 'IPv4':\n",
    "    src_addr = (bastion_private_ipv4_addr, 22)\n",
    "elif validIPAddress(management_ip) == 'IPv6':\n",
    "    src_addr = (bastion_private_ipv6_addr, 22)\n",
    "else:\n",
    "    print('Management IP Invalid: {}'.format(management_ip))\n",
    "\n",
    "dest_addr = (management_ip, 22)\n",
    "bastion_channel = bastion_transport.open_channel(\"direct-tcpip\", dest_addr, src_addr)\n",
    "\n",
    "\n",
    "client = paramiko.SSHClient()\n",
    "client.load_system_host_keys()\n",
    "client.set_missing_host_key_policy(paramiko.MissingHostKeyPolicy())\n",
    "client.set_missing_host_key_policy(paramiko.AutoAddPolicy())\n",
    "\n",
    "client.connect(management_ip,username=username,pkey = key, sock=bastion_channel)\n",
    "#stdin, stdout, stderr = client.exec_command('sudo systemctl disable NetworkManager')\n",
    "#stdin, stdout, stderr = client.exec_command('sudo systemctl stop NetworkManager')\n",
    "stdin, stdout, stderr = client.exec_command('sudo bash -c \"echo [keyfile] > /etc/NetworkManager/conf.d/kubefabric.conf\"')\n",
    "stdin, stdout, stderr = client.exec_command('sudo bash -c \"echo \\'unmanaged-devices=interface-name:cali*;interface-name:tunl*;interface-name:vxlan.calico;interface-name:wireguard.cali;interface-name:eth1\\' >> /etc/NetworkManager/conf.d/kubefabric.conf\"')\n",
    "stdin, stdout, stderr = client.exec_command('sudo systemctl restart NetworkManager')\n",
    "stdin, stdout, stderr = client.exec_command('sudo ip addr add 192.168.10.52/24 dev eth1')\n",
    "print (str(stdout.read(),'utf-8').replace('\\\\n','\\n'))\n",
    "\n",
    "stdin, stdout, stderr = client.exec_command('ifconfig eth1')\n",
    "print (str(stdout.read(),'utf-8').replace('\\\\n','\\n'))\n",
    "\n",
    "client.close()"
   ]
  },
  {
   "cell_type": "markdown",
   "id": "445060cd",
   "metadata": {},
   "source": [
    "## Generate the Inventory File\n",
    "Use this file with Ansible to install and provision a K8s cluster."
   ]
  },
  {
   "cell_type": "code",
   "execution_count": null,
   "id": "015d14eb",
   "metadata": {},
   "outputs": [],
   "source": [
    "import yaml\n",
    "from jinja2 import Environment, FileSystemLoader\n",
    "\n",
    "# Load templates file from templtes folder\n",
    "env = Environment(loader = FileSystemLoader('/docker/ansible'),   trim_blocks=True, lstrip_blocks=True)\n",
    "template = env.get_template('hosts.j2')\n",
    "\n",
    "file=open(\"/work/hosts.yaml\", \"w\")\n",
    "file.write(template.render(hosts=nodes, \n",
    "                           bastion_public_addr=bastion_public_addr, \n",
    "                           bastion_username=bastion_username,\n",
    "                           bastion_key_filename=bastion_key_filename,\n",
    "                           ssh_key_file_priv=ssh_key_file_priv))\n",
    "file.close()"
   ]
  },
  {
   "cell_type": "markdown",
   "id": "6d2b312b",
   "metadata": {},
   "source": [
    "## Delete Slice\n",
    "Do not delete the slice prematurely if you are planning on using Ansible and testing a SLATE API registration workflow."
   ]
  },
  {
   "cell_type": "code",
   "execution_count": null,
   "id": "c0e7cc76",
   "metadata": {},
   "outputs": [],
   "source": [
    "return_status, result = slice_manager.delete(slice_object=slice)\n",
    "\n",
    "print(\"Response Status {}\".format(return_status))\n",
    "print(\"Response received {}\".format(result))"
   ]
  },
  {
   "cell_type": "code",
   "execution_count": null,
   "id": "eccaa4ce",
   "metadata": {},
   "outputs": [],
   "source": []
  }
 ],
 "metadata": {
  "kernelspec": {
   "display_name": "Python 3 (ipykernel)",
   "language": "python",
   "name": "python3"
  },
  "language_info": {
   "codemirror_mode": {
    "name": "ipython",
    "version": 3
   },
   "file_extension": ".py",
   "mimetype": "text/x-python",
   "name": "python",
   "nbconvert_exporter": "python",
   "pygments_lexer": "ipython3",
   "version": "3.9.9"
  }
 },
 "nbformat": 4,
 "nbformat_minor": 5
}
